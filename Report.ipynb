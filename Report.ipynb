{
 "cells": [
  {
   "attachments": {
    "image.png": {
     "image/gif": "https://user-images.githubusercontent.com/10624937/42135619-d90f2f28-7d12-11e8-8823-82b970a54d7e.gif"
    }
   },
   "cell_type": "markdown",
   "metadata": {},
   "source": [
    "# Navigation using Reinforcement Learning\n",
    "\n",
    "---\n",
    "\n",
    "This project creates an agent to navigate (and collect bananas!) in a large, square world.\n",
    "\n",
    "### 1. Start the Environment\n",
    "\n",
    "**Unity Machine Learning Agents (ML-Agents)** is an open-source Unity plugin that enables games and simulations to serve as environments for training intelligent agents. It has myriads of environments up for a challenge, and in which the environment we will be solving during this project is **Banana Collector**.\n",
    "![image1]: https://user-images.githubusercontent.com/10624937/42135619-d90f2f28-7d12-11e8-8823-82b970a54d7e.gif "Trained Agent""
   ]
  },
  {
   "cell_type": "markdown",
   "metadata": {},
   "source": [
    "A reward of +1 is provided for collecting a yellow banana, and a reward of -1 is provided for collecting a blue banana. Thus, the goal is to collect as many yellow bananas as possible while avoiding blue bananas."
   ]
  },
  {
   "cell_type": "markdown",
   "metadata": {},
   "source": [
    "Let's start by installing all the required dependencies:"
   ]
  },
  {
   "cell_type": "code",
   "execution_count": 1,
   "metadata": {},
   "outputs": [
    {
     "name": "stdout",
     "output_type": "stream",
     "text": [
      "\u001b[31mtensorflow 1.7.1 has requirement numpy>=1.13.3, but you'll have numpy 1.12.1 which is incompatible.\u001b[0m\r\n",
      "\u001b[31mipython 6.5.0 has requirement prompt-toolkit<2.0.0,>=1.0.15, but you'll have prompt-toolkit 3.0.5 which is incompatible.\u001b[0m\r\n"
     ]
    }
   ],
   "source": [
    "!pip -q install ./python"
   ]
  },
  {
   "cell_type": "markdown",
   "metadata": {},
   "source": [
    "The environment is provided and can be accessed at the file path below."
   ]
  },
  {
   "cell_type": "code",
   "execution_count": 2,
   "metadata": {},
   "outputs": [
    {
     "name": "stderr",
     "output_type": "stream",
     "text": [
      "INFO:unityagents:\n",
      "'Academy' started successfully!\n",
      "Unity Academy name: Academy\n",
      "        Number of Brains: 1\n",
      "        Number of External Brains : 1\n",
      "        Lesson number : 0\n",
      "        Reset Parameters :\n",
      "\t\t\n",
      "Unity brain name: BananaBrain\n",
      "        Number of Visual Observations (per agent): 0\n",
      "        Vector Observation space type: continuous\n",
      "        Vector Observation space size (per agent): 37\n",
      "        Number of stacked Vector Observation: 1\n",
      "        Vector Action space type: discrete\n",
      "        Vector Action space size (per agent): 4\n",
      "        Vector Action descriptions: , , , \n"
     ]
    }
   ],
   "source": [
    "#export\n",
    "from unityagents import UnityEnvironment\n",
    "import numpy as np\n",
    "\n",
    "# Load the environment\n",
    "env = UnityEnvironment(file_name=\"/data/Banana_Linux_NoVis/Banana.x86_64\")"
   ]
  },
  {
   "cell_type": "markdown",
   "metadata": {},
   "source": [
    "The state space has `NumberOfAgents`x`37` dimensions and contains each agent's velocity, along with ray-based perception of objects around the agent's forward direction. Since we have only single agent navigating the world, our `S`, state space, is single vector of length 37. \n",
    "\n",
    "Four discrete actions are available, corresponding to:\n",
    "- `0` - move forward.\n",
    "- `1` - move backward.\n",
    "- `2` - turn left.\n",
    "- `3` - turn right."
   ]
  },
  {
   "cell_type": "markdown",
   "metadata": {},
   "source": [
    "Environments contain **_brains_** which are responsible for deciding the actions of their associated agents, representing the agent. Here we check for the first brain available, and set it as the default brain we will be controlling from Python."
   ]
  },
  {
   "cell_type": "code",
   "execution_count": 3,
   "metadata": {},
   "outputs": [
    {
     "name": "stdout",
     "output_type": "stream",
     "text": [
      "BananaBrain\n"
     ]
    }
   ],
   "source": [
    "#export\n",
    "# get the default brain\n",
    "brain_name = env.brain_names[0]\n",
    "brain = env.brains[brain_name]\n",
    "print(brain_name)"
   ]
  },
  {
   "cell_type": "markdown",
   "metadata": {},
   "source": [
    "### 2. Examine the State and Action Spaces\n",
    "\n",
    "Run the code cell below to print some information about the environment."
   ]
  },
  {
   "cell_type": "code",
   "execution_count": 4,
   "metadata": {},
   "outputs": [
    {
     "name": "stdout",
     "output_type": "stream",
     "text": [
      "Number of agents: 1\n",
      "Number of actions: 4\n",
      "States are represented by: float64\n",
      "States have shape: (37,)\n"
     ]
    }
   ],
   "source": [
    "# reset the environment\n",
    "env_info = env.reset(train_mode=True)[brain_name]\n",
    "\n",
    "# number of agents in the environment\n",
    "print('Number of agents:', len(env_info.agents))\n",
    "\n",
    "# number of actions\n",
    "action_size = brain.vector_action_space_size\n",
    "print('Number of actions:', action_size)\n",
    "\n",
    "# examine the state space \n",
    "state = env_info.vector_observations[0]\n",
    "state = np.array(state)\n",
    "print('States are represented by:', state.dtype)\n",
    "print('States have shape:', state.shape)"
   ]
  },
  {
   "cell_type": "markdown",
   "metadata": {},
   "source": [
    "### 3. Take Random Actions in the Environment\n",
    "\n",
    "Lets take look at using the Python API to control the agent and receive feedback from the environment. We will run a single episode with a RandomAgent who takes actions randomly.\n",
    "\n",
    "Note that **in this coding environment, you will not be able to watch the agent while it is training**, and you should set `train_mode=True` to restart the environment."
   ]
  },
  {
   "cell_type": "code",
   "execution_count": 5,
   "metadata": {},
   "outputs": [
    {
     "name": "stdout",
     "output_type": "stream",
     "text": [
      "Score: 0.0\n"
     ]
    }
   ],
   "source": [
    "env_info = env.reset(train_mode=True)[brain_name] # reset the environment\n",
    "state = env_info.vector_observations[0]            # get the current state\n",
    "score = 0                                          # initialize the score\n",
    "while True:\n",
    "    action = np.random.randint(action_size)       # select an action\n",
    "    env_info = env.step(action)[brain_name]        # send the action to the environment\n",
    "    next_state = env_info.vector_observations[0]   # get the next state\n",
    "    reward = env_info.rewards[0]                   # get the reward\n",
    "    done = env_info.local_done[0]                  # see if episode has finished\n",
    "    score += reward                                # update the score\n",
    "    state = next_state                             # roll over the state to next time step\n",
    "    if done:                                       # exit loop if episode finished\n",
    "        break\n",
    "    \n",
    "print(\"Score: {}\".format(score))"
   ]
  },
  {
   "cell_type": "markdown",
   "metadata": {},
   "source": [
    "### 4. DQN Agent Solver\n",
    "\n",
    "We will use the implementation of basic DQN agent to solve the environment. The DQN agent solves the environment under 500 episodes. Although it is basic DQN agent, it is empirically demonstrated to be able to solve the environment within 500 episodes."
   ]
  },
  {
   "cell_type": "code",
   "execution_count": 6,
   "metadata": {},
   "outputs": [],
   "source": [
    "#export\n",
    "import torch\n",
    "from collections import deque\n",
    "from dqn_agent import Agent"
   ]
  },
  {
   "cell_type": "code",
   "execution_count": 7,
   "metadata": {},
   "outputs": [],
   "source": [
    "import matplotlib.pyplot as plt\n",
    "%matplotlib inline"
   ]
  },
  {
   "cell_type": "markdown",
   "metadata": {},
   "source": [
    "Define the environment variables"
   ]
  },
  {
   "cell_type": "code",
   "execution_count": 8,
   "metadata": {},
   "outputs": [],
   "source": [
    "#export\n",
    "env_info = env.reset(train_mode=True)[brain_name]\n",
    "action_size = brain.vector_action_space_size\n",
    "state = env_info.vector_observations[0]\n",
    "state_size = len(state)"
   ]
  },
  {
   "cell_type": "markdown",
   "metadata": {},
   "source": [
    "Q-Learning algorithm that uses deep neural network agents"
   ]
  },
  {
   "cell_type": "code",
   "execution_count": 9,
   "metadata": {},
   "outputs": [],
   "source": [
    "#export\n",
    "def dqn(n_episodes=2000, max_t=1000, eps_start=1.0, eps_end=0.01, eps_decay=0.995, agent_seed = 0):\n",
    "    \"\"\"Deep Q-Learning.\n",
    "    \n",
    "    Params\n",
    "    ======\n",
    "        n_episodes (int): maximum number of training episodes\n",
    "        max_t (int): maximum number of timesteps per episode\n",
    "        eps_start (float): starting value of epsilon, for epsilon-greedy action selection\n",
    "        eps_end (float): minimum value of epsilon\n",
    "        eps_decay (float): multiplicative factor (per episode) for decreasing epsilon\n",
    "        agent_seed (int): random seed for agent's weights\n",
    "    \"\"\"\n",
    "    agent = Agent(state_size=state_size, action_size=action_size, seed=agent_seed)   #Initialize the Agent\n",
    "    \n",
    "    scores = []                        # list containing scores from each episode\n",
    "    scores_window = deque(maxlen=100)  # last 100 scores\n",
    "    eps = eps_start                    # initialize epsilon\n",
    "    for i_episode in range(1, n_episodes+1):\n",
    "        \n",
    "        env_info = env.reset(train_mode=True)[brain_name]  # reset the environment\n",
    "        state = env_info.vector_observations[0]            # get the current state\n",
    "        score = 0\n",
    "        for t in range(max_t):\n",
    "            \n",
    "            action = agent.act(state, eps)                 # select an action\n",
    "            env_info = env.step(action)[brain_name]        # send the action to the environment\n",
    "            next_state = env_info.vector_observations[0]   # get the next state\n",
    "            reward = env_info.rewards[0]                   # get the reward\n",
    "            done = env_info.local_done[0]     \n",
    "            \n",
    "            agent.step(state, action, reward, next_state, done)  #Update the Agent\n",
    "            \n",
    "            state = next_state\n",
    "            score += reward\n",
    "            if done:\n",
    "                break \n",
    "                \n",
    "        scores_window.append(score)       # save most recent score\n",
    "        scores.append(score)              # save most recent score\n",
    "        eps = max(eps_end, eps_decay*eps) # decrease epsilon\n",
    "        \n",
    "        print('\\rEpisode {}\\tAverage Score: {:.2f}'.format(i_episode, np.mean(scores_window)), end=\"\")\n",
    "        if i_episode % 100 == 0:\n",
    "            print('\\rEpisode {}\\tAverage Score: {:.2f}'.format(i_episode, np.mean(scores_window)))\n",
    "            \n",
    "        #environment is solved\n",
    "        if np.mean(scores_window)>=13.0:\n",
    "            print('\\nEnvironment solved in {:d} episodes!\\tAverage Score: {:.2f}'.format(i_episode-100, np.mean(scores_window)))\n",
    "            torch.save(agent.qnetwork_local.state_dict(), 'checkpoint.pth') #Save the model weights\n",
    "            break\n",
    "            \n",
    "    return scores"
   ]
  },
  {
   "cell_type": "markdown",
   "metadata": {},
   "source": [
    "Let's test the DQNetwork defined above and plot the score"
   ]
  },
  {
   "cell_type": "code",
   "execution_count": 10,
   "metadata": {},
   "outputs": [
    {
     "name": "stdout",
     "output_type": "stream",
     "text": [
      "Episode 100\tAverage Score: 1.09\n",
      "Episode 200\tAverage Score: 4.46\n",
      "Episode 300\tAverage Score: 8.25\n",
      "Episode 400\tAverage Score: 10.91\n",
      "Episode 500\tAverage Score: 12.89\n",
      "Episode 518\tAverage Score: 13.02\n",
      "Environment solved in 418 episodes!\tAverage Score: 13.02\n"
     ]
    },
    {
     "data": {
      "image/png": "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\n",
      "text/plain": [
       "<matplotlib.figure.Figure at 0x7f0a82de0eb8>"
      ]
     },
     "metadata": {
      "needs_background": "light"
     },
     "output_type": "display_data"
    }
   ],
   "source": [
    "scores = dqn()\n",
    "\n",
    "# plot the scores\n",
    "fig = plt.figure()\n",
    "ax = fig.add_subplot(111)\n",
    "plt.plot(np.arange(len(scores)), scores)\n",
    "plt.ylabel('Score')\n",
    "plt.xlabel('Episode #')\n",
    "plt.show()"
   ]
  },
  {
   "cell_type": "markdown",
   "metadata": {},
   "source": [
    "Close the environment after training."
   ]
  },
  {
   "cell_type": "code",
   "execution_count": 11,
   "metadata": {},
   "outputs": [],
   "source": [
    "env.close()"
   ]
  },
  {
   "cell_type": "markdown",
   "metadata": {},
   "source": [
    "#### Hyperparaments\n",
    "Note that the hyper parameters used for the training was:\n",
    "    - n_episodes = 2000\n",
    "        Train for total of 2000 episodes until the environment is solved\n",
    "    - max_t = 1000 \n",
    "        Maximum of 1000 timesteps per episode\n",
    "    - eps_start = 1.0\n",
    "        Epsilon of Greedy-epsilon policy starts at value 1.0\n",
    "    - eps_end = 0.01   \n",
    "        Minimum epsilon value after decay\n",
    "    - eps_decay = 0.995\n",
    "        Epsilon decay rate"
   ]
  },
  {
   "cell_type": "markdown",
   "metadata": {},
   "source": [
    "#### Neural network inside the agent\n",
    "\n",
    "The policy neural network inside the agent is simple shallow network with 3 layers.\n",
    "\n",
    "    State value -> LinearLayer(37, 64) -> Relu -> LinearLayer(64, 64) -> Relu -> LinearLayer(64, 4) -> Action values"
   ]
  },
  {
   "cell_type": "markdown",
   "metadata": {},
   "source": [
    "### 5. Command-Line usage parser\n",
    "The following is parser for the command line interface for the DQN solving the unity environment. \n",
    "<b>Not to be executed</b>"
   ]
  },
  {
   "cell_type": "code",
   "execution_count": null,
   "metadata": {},
   "outputs": [],
   "source": [
    "#export\n",
    "if __name__ == '__main__':\n",
    "    import argparse\n",
    "    parser = argparse.ArgumentParser()\n",
    "    parser.add_argument('--n_episodes', type=int, default=2000)\n",
    "    parser.add_argument('--max_t', type=int, default=1000)\n",
    "    parser.add_argument('--eps_start', type=float, default=1.0)\n",
    "    parser.add_argument('--seed', '-s', type=int, default=0)\n",
    "    parser.add_argument('--eps_end', type=float, default=0.01)\n",
    "    parser.add_argument('--eps_decay', type=float, default=0.995)\n",
    "    args = parser.parse_args()\n",
    "    \n",
    "\n",
    "    dqn(n_episodes = args.n_episodes, max_t = args.max_t, eps_start = args.eps_start, \\\n",
    "        eps_end = args.eps_end, eps_decay = args.eps_decay, agent_seed = args.seed)\n",
    "env.close() \n"
   ]
  },
  {
   "cell_type": "markdown",
   "metadata": {},
   "source": [
    "### 6. Generate script from the notebook\n",
    "Throughout this notebook you've been seeing cells marked with ```#export```. The script below picks cells that are marked and append them into python script. This is adopted from fast-ai's deep learning course practice."
   ]
  },
  {
   "cell_type": "code",
   "execution_count": 14,
   "metadata": {},
   "outputs": [
    {
     "name": "stdout",
     "output_type": "stream",
     "text": [
      "Converted Report.ipynb to nb_Report.py\r\n"
     ]
    }
   ],
   "source": [
    "!python notebook2script.py Report.ipynb"
   ]
  },
  {
   "cell_type": "markdown",
   "metadata": {},
   "source": [
    "After running the cell above, `nb_Navigation.py` script should have been generated in your workspace. "
   ]
  },
  {
   "cell_type": "markdown",
   "metadata": {},
   "source": [
    "### 7. Run the script from the command-line"
   ]
  },
  {
   "cell_type": "code",
   "execution_count": 15,
   "metadata": {},
   "outputs": [
    {
     "name": "stdout",
     "output_type": "stream",
     "text": [
      "Found path: /data/Banana_Linux_NoVis/Banana.x86_64\n",
      "Mono path[0] = '/data/Banana_Linux_NoVis/Banana_Data/Managed'\n",
      "Mono config path = '/data/Banana_Linux_NoVis/Banana_Data/MonoBleedingEdge/etc'\n",
      "Preloaded 'libgrpc_csharp_ext.x64.so'\n",
      "Unable to preload the following plugins:\n",
      "\tlibgrpc_csharp_ext.x86.so\n",
      "Logging to /root/.config/unity3d/Unity Technologies/Unity Environment/Player.log\n",
      "xcb_connection_has_error() returned true\n",
      "xcb_connection_has_error() returned true\n",
      "xcb_connection_has_error() returned true\n",
      "INFO:unityagents:\n",
      "'Academy' started successfully!\n",
      "Unity Academy name: Academy\n",
      "        Number of Brains: 1\n",
      "        Number of External Brains : 1\n",
      "        Lesson number : 0\n",
      "        Reset Parameters :\n",
      "\t\t\n",
      "Unity brain name: BananaBrain\n",
      "        Number of Visual Observations (per agent): 0\n",
      "        Vector Observation space type: continuous\n",
      "        Vector Observation space size (per agent): 37\n",
      "        Number of stacked Vector Observation: 1\n",
      "        Vector Action space type: discrete\n",
      "        Vector Action space size (per agent): 4\n",
      "        Vector Action descriptions: , , , \n",
      "BananaBrain\n",
      "Episode 100\tAverage Score: 1.12\n",
      "Episode 200\tAverage Score: 4.88\n",
      "Episode 300\tAverage Score: 8.34\n",
      "Episode 400\tAverage Score: 10.43\n",
      "Episode 487\tAverage Score: 13.03\n",
      "Environment solved in 387 episodes!\tAverage Score: 13.03\n"
     ]
    }
   ],
   "source": [
    "!python nb_Report.py"
   ]
  },
  {
   "cell_type": "markdown",
   "metadata": {},
   "source": [
    "### 8. Conclusions and Future Work\n",
    "\n",
    "#### Summary\n",
    "\n",
    "We've just learned to collect yellow bananas in Unity Environment, yay! Our DQN agent proved to be versalite and able to solve the environment during repeated trials. This, by itself, proves that DQN agent is able to solve such continuous control scenarios. \n",
    "\n",
    "Now, you can play around with the hyperparameters to make it even more efficient.\n",
    "\n",
    "### Future work\n",
    "\n",
    "This was DQN agent introduced by paper, \"Human-level control through deep reinforcement learning\" in 2015. It was a breakthrough that could play Atari 2600 games from visual input. However, we modified this to work with sensory inputs rather than pixels. Therefore, we can re-add the convolutional layers and modify to observations to screen input to pixel-to-action control. You are encouraged to follow this setup:\n",
    "\n",
    "- Linux: [click here](https://s3-us-west-1.amazonaws.com/udacity-drlnd/P1/Banana/VisualBanana_Linux.zip)\n",
    "- Mac OSX: [click here](https://s3-us-west-1.amazonaws.com/udacity-drlnd/P1/Banana/VisualBanana.app.zip)\n",
    "- Windows (32-bit): [click here](https://s3-us-west-1.amazonaws.com/udacity-drlnd/P1/Banana/VisualBanana_Windows_x86.zip)\n",
    "- Windows (64-bit): [click here](https://s3-us-west-1.amazonaws.com/udacity-drlnd/P1/Banana/VisualBanana_Windows_x86_64.zip)\n",
    "\n",
    "\n",
    "Then, place the file in the p1_navigation/ folder in the DRLND GitHub repository, and unzip (or decompress) the file. Next, open Navigation_Pixels.ipynb and follow the instructions to learn how to use the Python API to control the agent.\n",
    "\n",
    "Moreover, as you've seen on the rewards graph, the rewards during the training spike up and down quite a bit. There was numerous improvements to the DQN following the breakthrough. Consequentially, the most prominent contributions were packed into one by researchers, and it was named Rainbow. These improvements not only make it more stable but even more efficient. You can find the paper at https://arxiv.org/abs/1710.02298.\n"
   ]
  }
 ],
 "metadata": {
  "kernelspec": {
   "display_name": "Python 3",
   "language": "python",
   "name": "python3"
  },
  "language_info": {
   "codemirror_mode": {
    "name": "ipython",
    "version": 3
   },
   "file_extension": ".py",
   "mimetype": "text/x-python",
   "name": "python",
   "nbconvert_exporter": "python",
   "pygments_lexer": "ipython3",
   "version": "3.6.3"
  }
 },
 "nbformat": 4,
 "nbformat_minor": 2
}
